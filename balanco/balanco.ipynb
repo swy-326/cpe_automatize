{
  "nbformat": 4,
  "nbformat_minor": 0,
  "metadata": {
    "colab": {
      "provenance": []
    },
    "kernelspec": {
      "name": "python3",
      "display_name": "Python 3"
    },
    "language_info": {
      "name": "python"
    }
  },
  "cells": [
    {
      "cell_type": "markdown",
      "source": [
        "## como usar\n",
        "- colocar o arquivo csv do Cora na pasta: **2 - [FINANCEIRO]/[2023]/Balanço**\n",
        "- o nome do arquivo sempre deve ser: **yyyy-mm.csv**\n",
        "- na 2a celula, **trocar o nome** do arquivo csv acima \n",
        "- rodar todas as celulas **em ordem**\n",
        "\n",
        "## fazer manualmente na planilha\n",
        "- ajustar o tamanho das colunas\n",
        "- **formatar como moeda** a entrada e saida\n",
        "- (um dia arrumo tudo isso)"
      ],
      "metadata": {
        "id": "sMJYkSr6KN9U"
      }
    },
    {
      "cell_type": "code",
      "execution_count": null,
      "metadata": {
        "id": "w0Gog6KKn6nR"
      },
      "outputs": [],
      "source": [
        "from google.colab import drive\n",
        "import os\n",
        "\n",
        "import pandas as pd\n",
        "import numpy as np\n",
        "from openpyxl import load_workbook\n",
        "!pip install xlsxwriter\n",
        "\n",
        "drive.mount('/content/gdrive')\n",
        "os.chdir('/content/gdrive/My Drive/2 - [FINANCEIRO]/[2023]/Balanço')"
      ]
    },
    {
      "cell_type": "code",
      "source": [
        "# abre o arquivo csv\n",
        "file = '2023-03.csv'\n",
        "df = pd.read_csv(file, encoding='utf-8-sig', sep=',', dtype=str)"
      ],
      "metadata": {
        "id": "0GZSUaIapBf1"
      },
      "execution_count": null,
      "outputs": []
    },
    {
      "cell_type": "code",
      "source": [
        "def month_mapper(month):\n",
        "     keys = {\n",
        "         \"01\": \"JANEIRO\",\n",
        "         \"02\": \"FEVEREIRO\",\n",
        "         \"03\": \"MARÇO\",\n",
        "         \"04\": \"ABRIL\",\n",
        "         \"05\": \"MAIO\",\n",
        "         \"06\": \"JUNHO\",\n",
        "         \"07\": \"JULHO\",\n",
        "         \"08\": \"AGOSTO\",\n",
        "         \"09\": \"SETEMBRO\",\n",
        "         \"10\": \"OUTUBRO\",\n",
        "         \"11\": \"NOVEMBRO\",\n",
        "         \"12\": \"DEZEMBRO\"\n",
        "     }\n",
        "\n",
        "     return keys[month]\n",
        "\n",
        "def number_formatter(number):\n",
        "    number = float(number)\n",
        "    return \"{:,.2f}\".format(number).replace(',', '#').replace('.', ',').replace('#', '.')"
      ],
      "metadata": {
        "id": "yKBGRoZ9q97y"
      },
      "execution_count": null,
      "outputs": []
    },
    {
      "cell_type": "code",
      "source": [
        "# formata os valores com separador de milesimo para . e de decimal para , \n",
        "df['Valor'] = df['Valor'].astype(float)\n",
        "df['Valor'] = df['Valor'].apply(lambda x: number_formatter(x))\n",
        "\n",
        "# Divide os valores para a coluna entrada e saida\n",
        "df['Entrada R$'] = df.apply(lambda x: x['Valor'] if x['Tipo Transação'] == 'CRÉDITO' else '', axis=1)\n",
        "df['Saida R$'] = df.apply(lambda x: x['Valor'] if x['Tipo Transação'] == 'DÉBITO' else '', axis=1)\n",
        "df = df.drop(columns=['Valor', 'Tipo Transação'], axis=1)\n",
        "\n",
        "# cria coluna de historico\n",
        "df['Historico'] = ''\n",
        "\n",
        "# cria coluna detalhes concatenando valores da transacao e identificacao\n",
        "df['Detalhes'] = df[['Transação', 'Identificação']].apply(': '.join, axis=1)\n",
        "df = df.drop(columns=['Transação', 'Identificação'], axis=1)\n",
        "\n",
        "# formata df\n",
        "df = df.reindex(columns=['Data', 'Historico', 'Detalhes', 'Entrada R$', 'Saida R$'])\n",
        "df = df.sort_values(by = 'Data')"
      ],
      "metadata": {
        "id": "YQ823OVBpulT"
      },
      "execution_count": null,
      "outputs": []
    },
    {
      "cell_type": "code",
      "source": [
        "month = month_mapper(file[5:7])\n",
        "\n",
        "book = load_workbook('[BALANÇO CPE] [2023].xlsx')\n",
        "writer = pd.ExcelWriter('[BALANÇO CPE] [2023].xlsx', engine='openpyxl', mode='a', if_sheet_exists='overlay')\n",
        "writer.book = book\n",
        "writer.sheets = dict((ws.title, ws) for ws in writer.book.worksheets)\n",
        "\n",
        "df.to_excel(writer, sheet_name=month, index=False, header=False, startcol=1, startrow=4)\n",
        "\n",
        "'''\n",
        "# engine'xlsxwriter'\n",
        "for column in df:\n",
        "    column_width = max(df[column].astype(str).map(len).max(), len(column))\n",
        "    col_idx = df.columns.get_loc(column)\n",
        "    writer.sheets['MARÇO'].set_column(col_idx, col_idx, column_width)\n",
        "'''\n",
        "\n",
        "writer.save()"
      ],
      "metadata": {
        "id": "rm4lgs8A1xSX"
      },
      "execution_count": null,
      "outputs": []
    }
  ]
}