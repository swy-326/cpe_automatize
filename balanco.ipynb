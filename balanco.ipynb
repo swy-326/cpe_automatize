{
  "nbformat": 4,
  "nbformat_minor": 0,
  "metadata": {
    "colab": {
      "provenance": []
    },
    "kernelspec": {
      "name": "python3",
      "display_name": "Python 3"
    },
    "language_info": {
      "name": "python"
    }
  },
  "cells": [
    {
      "cell_type": "code",
      "execution_count": 1,
      "metadata": {
        "colab": {
          "base_uri": "https://localhost:8080/"
        },
        "id": "w0Gog6KKn6nR",
        "outputId": "9f246087-d530-4557-c0b1-01af483cf0e6"
      },
      "outputs": [
        {
          "output_type": "stream",
          "name": "stdout",
          "text": [
            "Mounted at /content/gdrive\n"
          ]
        },
        {
          "output_type": "execute_result",
          "data": {
            "text/plain": [
              "['[PLANEJAMENTO]', 'Fotos Produtos Lojinha', 'Extratos']"
            ]
          },
          "metadata": {},
          "execution_count": 1
        }
      ],
      "source": [
        "from google.colab import drive\n",
        "import os\n",
        "\n",
        "import pandas as pd\n",
        "import numpy as np\n",
        "!pip install xlsxwriter\n",
        "\n",
        "drive.mount('/content/gdrive')\n",
        "os.chdir('/content/gdrive/My Drive/2 - [FINANCEIRO]/[2023]/Extratos')\n",
        "os.listdir()"
      ]
    },
    {
      "cell_type": "code",
      "source": [
        "def month_mapper(month):\n",
        "     keys = {\n",
        "         \"01\": \"JANEIRO\",\n",
        "         \"02\": \"FEVEREIRO\",\n",
        "         \"03\": \"MARÇO\",\n",
        "         \"04\": \"ABRIL\",\n",
        "         \"05\": \"MAIO\",\n",
        "         \"06\": \"JUNHO\",\n",
        "         \"07\": \"JULHO\",\n",
        "         \"08\": \"AGOSTO\",\n",
        "         \"09\": \"SETEMBRO\",\n",
        "         \"10\": \"OUTUBRO\",\n",
        "         \"11\": \"NOVEMBRO\",\n",
        "         \"12\": \"DEZEMBRO\"\n",
        "     }\n",
        "\n",
        "     return keys[month]\n",
        "\n",
        "def number_formatter(number):\n",
        "    number = float(number)\n",
        "    return \"{:,.2f}\".format(number).replace(',', '#').replace('.', ',').replace('#', '.')"
      ],
      "metadata": {
        "id": "yKBGRoZ9q97y"
      },
      "execution_count": null,
      "outputs": []
    },
    {
      "cell_type": "code",
      "source": [
        "# abre o arquivo csv\n",
        "arquivo = '2023-03.csv'\n",
        "df = pd.read_csv(arquivo, encoding='utf-8-sig', sep=',', dtype=str)\n",
        "\n",
        "# formata os valores com separador de milesimo para . e de decimal para , \n",
        "df['Valor'] = df['Valor'].astype(float)\n",
        "df['Valor'] = df['Valor'].apply(lambda x: number_formatter(x))"
      ],
      "metadata": {
        "id": "0GZSUaIapBf1"
      },
      "execution_count": 58,
      "outputs": []
    },
    {
      "cell_type": "code",
      "source": [
        "# Divide os valores para a coluna entrada e saida\n",
        "df['Entrada R$'] = df.apply(lambda x: x['Valor'] if x['Tipo Transação'] == 'CRÉDITO' else '', axis=1)\n",
        "df['Saida R$'] = df.apply(lambda x: x['Valor'] if x['Tipo Transação'] == 'DÉBITO' else '', axis=1)\n",
        "df = df.drop(columns=['Valor', 'Tipo Transação'], axis=1)\n",
        "\n",
        "# cria coluna historico\n",
        "df['Historico'] = ''\n",
        "\n",
        "# cria coluna detalhes concatenando valores da transacao e identificacao\n",
        "df['Detalhes'] = df[['Transação', 'Identificação']].apply(': '.join, axis=1)\n",
        "df = df.drop(columns=['Transação', 'Identificação'], axis=1)\n",
        "\n",
        "# formata df\n",
        "df = df.reindex(columns=['Data', 'Historico', 'Detalhes', 'Entrada R$', 'Saida R$'])\n",
        "df = df.sort_values(by = 'Data')\n",
        "\n",
        "df"
      ],
      "metadata": {
        "id": "YQ823OVBpulT"
      },
      "execution_count": null,
      "outputs": []
    },
    {
      "cell_type": "code",
      "source": [
        "out_filename = os.getcwd() + '/' + arquivo.replace('.csv', '.xlsx')\n",
        "writer = pd.ExcelWriter(out_filename)\n",
        "df.to_excel(writer, sheet_name='balanço', index=False, header=True)\n",
        "\n",
        "for column in df:\n",
        "    column_width = max(df[column].astype(str).map(len).max(), len(column))\n",
        "    col_idx = df.columns.get_loc(column)\n",
        "    writer.sheets['balanço'].set_column(col_idx, col_idx, column_width)\n",
        "\n",
        "writer.save()"
      ],
      "metadata": {
        "id": "rm4lgs8A1xSX"
      },
      "execution_count": 62,
      "outputs": []
    }
  ]
}